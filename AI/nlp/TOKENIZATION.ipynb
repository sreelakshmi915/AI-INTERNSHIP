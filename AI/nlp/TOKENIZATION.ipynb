{
 "cells": [
  {
   "cell_type": "markdown",
   "metadata": {},
   "source": [
    "HERE WE DO TOKENIZATION STEMMING AND LEMMATIZATION\n",
    "TOKENIZATION IS BRAKING PARAGRAPHS-->SENTENCES--->WORDS--->CHARACTERS\n",
    "WHEN REACHES WORD WE CUT CHORT STOPWORDS AND CHANGING WORDS TO THEIR ROOT FOR THAT WE USE STEMMING AND LEMMATIZATION\n",
    "WHERE STEMMING DOESNOT CONSIDER MEANING OF WORD SO SOME TIME PROCESS WILL BE MEANINGLESS\n",
    "IN LEMMATIZATION IT USES PROPER MEANING\n",
    "ANS STEMMING IS FASTER"
   ]
  },
  {
   "cell_type": "code",
   "execution_count": 2,
   "metadata": {},
   "outputs": [
    {
     "name": "stderr",
     "output_type": "stream",
     "text": [
      "[nltk_data] Downloading collection 'popular'\n",
      "[nltk_data]    | \n",
      "[nltk_data]    | Downloading package cmudict to\n",
      "[nltk_data]    |     C:\\Users\\ASUS\\AppData\\Roaming\\nltk_data...\n",
      "[nltk_data]    |   Unzipping corpora\\cmudict.zip.\n",
      "[nltk_data]    | Downloading package gazetteers to\n",
      "[nltk_data]    |     C:\\Users\\ASUS\\AppData\\Roaming\\nltk_data...\n",
      "[nltk_data]    |   Unzipping corpora\\gazetteers.zip.\n",
      "[nltk_data]    | Downloading package genesis to\n",
      "[nltk_data]    |     C:\\Users\\ASUS\\AppData\\Roaming\\nltk_data...\n",
      "[nltk_data]    |   Unzipping corpora\\genesis.zip.\n",
      "[nltk_data]    | Downloading package gutenberg to\n",
      "[nltk_data]    |     C:\\Users\\ASUS\\AppData\\Roaming\\nltk_data...\n",
      "[nltk_data]    |   Unzipping corpora\\gutenberg.zip.\n",
      "[nltk_data]    | Downloading package inaugural to\n",
      "[nltk_data]    |     C:\\Users\\ASUS\\AppData\\Roaming\\nltk_data...\n",
      "[nltk_data]    |   Unzipping corpora\\inaugural.zip.\n",
      "[nltk_data]    | Downloading package movie_reviews to\n",
      "[nltk_data]    |     C:\\Users\\ASUS\\AppData\\Roaming\\nltk_data...\n",
      "[nltk_data]    |   Unzipping corpora\\movie_reviews.zip.\n",
      "[nltk_data]    | Downloading package names to\n",
      "[nltk_data]    |     C:\\Users\\ASUS\\AppData\\Roaming\\nltk_data...\n",
      "[nltk_data]    |   Unzipping corpora\\names.zip.\n",
      "[nltk_data]    | Downloading package shakespeare to\n",
      "[nltk_data]    |     C:\\Users\\ASUS\\AppData\\Roaming\\nltk_data...\n",
      "[nltk_data]    |   Unzipping corpora\\shakespeare.zip.\n",
      "[nltk_data]    | Downloading package stopwords to\n",
      "[nltk_data]    |     C:\\Users\\ASUS\\AppData\\Roaming\\nltk_data...\n",
      "[nltk_data]    |   Unzipping corpora\\stopwords.zip.\n",
      "[nltk_data]    | Downloading package treebank to\n",
      "[nltk_data]    |     C:\\Users\\ASUS\\AppData\\Roaming\\nltk_data...\n",
      "[nltk_data]    |   Unzipping corpora\\treebank.zip.\n",
      "[nltk_data]    | Downloading package twitter_samples to\n",
      "[nltk_data]    |     C:\\Users\\ASUS\\AppData\\Roaming\\nltk_data...\n",
      "[nltk_data]    |   Unzipping corpora\\twitter_samples.zip.\n",
      "[nltk_data]    | Downloading package omw to\n",
      "[nltk_data]    |     C:\\Users\\ASUS\\AppData\\Roaming\\nltk_data...\n",
      "[nltk_data]    |   Unzipping corpora\\omw.zip.\n",
      "[nltk_data]    | Downloading package wordnet to\n",
      "[nltk_data]    |     C:\\Users\\ASUS\\AppData\\Roaming\\nltk_data...\n",
      "[nltk_data]    |   Unzipping corpora\\wordnet.zip.\n",
      "[nltk_data]    | Downloading package wordnet_ic to\n",
      "[nltk_data]    |     C:\\Users\\ASUS\\AppData\\Roaming\\nltk_data...\n",
      "[nltk_data]    |   Unzipping corpora\\wordnet_ic.zip.\n",
      "[nltk_data]    | Downloading package words to\n",
      "[nltk_data]    |     C:\\Users\\ASUS\\AppData\\Roaming\\nltk_data...\n",
      "[nltk_data]    |   Unzipping corpora\\words.zip.\n",
      "[nltk_data]    | Downloading package maxent_ne_chunker to\n",
      "[nltk_data]    |     C:\\Users\\ASUS\\AppData\\Roaming\\nltk_data...\n",
      "[nltk_data]    |   Unzipping chunkers\\maxent_ne_chunker.zip.\n",
      "[nltk_data]    | Downloading package punkt to\n",
      "[nltk_data]    |     C:\\Users\\ASUS\\AppData\\Roaming\\nltk_data...\n",
      "[nltk_data]    |   Unzipping tokenizers\\punkt.zip.\n",
      "[nltk_data]    | Downloading package snowball_data to\n",
      "[nltk_data]    |     C:\\Users\\ASUS\\AppData\\Roaming\\nltk_data...\n",
      "[nltk_data]    | Downloading package averaged_perceptron_tagger to\n",
      "[nltk_data]    |     C:\\Users\\ASUS\\AppData\\Roaming\\nltk_data...\n",
      "[nltk_data]    |   Unzipping taggers\\averaged_perceptron_tagger.zip.\n",
      "[nltk_data]    | \n",
      "[nltk_data]  Done downloading collection popular\n"
     ]
    },
    {
     "data": {
      "text/plain": [
       "True"
      ]
     },
     "execution_count": 2,
     "metadata": {},
     "output_type": "execute_result"
    }
   ],
   "source": [
    "#TOKENIZATION LIBRARY\n",
    "import nltk\n",
    "nltk.download(\"popular\")"
   ]
  },
  {
   "cell_type": "code",
   "execution_count": 3,
   "metadata": {},
   "outputs": [],
   "source": [
    "# text corpus-->input\n",
    "paragraph =\"\"\" \n",
    "APJ Abdul Kalam was a source of inspiration for tens and thousands of youngsters across the world because of his life philosophy and teachings. Avul Pakir Jainulabdeen Abdul Kalam, popularly known as 'Missile Man of India,' born on October 15 and served as the 11th President of India. He always remembered for his patriotism and passion for innovation and science & technology. The Bharat Ratna recipient stands as a torchbearer who has instilled courage in youngsters to achieve extraordinary things in life despite adverse conditions. Explore APJ Abdul Kalam Quotes in English for students!\"\"\""
   ]
  },
  {
   "cell_type": "code",
   "execution_count": 4,
   "metadata": {},
   "outputs": [
    {
     "name": "stdout",
     "output_type": "stream",
     "text": [
      " \n",
      "APJ Abdul Kalam was a source of inspiration for tens and thousands of youngsters across the world because of his life philosophy and teachings. Avul Pakir Jainulabdeen Abdul Kalam, popularly known as 'Missile Man of India,' born on October 15 and served as the 11th President of India. He always remembered for his patriotism and passion for innovation and science & technology. The Bharat Ratna recipient stands as a torchbearer who has instilled courage in youngsters to achieve extraordinary things in life despite adverse conditions. Explore APJ Abdul Kalam Quotes in English for students!\n"
     ]
    }
   ],
   "source": [
    "print(paragraph)\n"
   ]
  },
  {
   "cell_type": "code",
   "execution_count": 10,
   "metadata": {},
   "outputs": [
    {
     "name": "stdout",
     "output_type": "stream",
     "text": [
      "[' \\nAPJ Abdul Kalam was a source of inspiration for tens and thousands of youngsters across the world because of his life philosophy and teachings.', \"Avul Pakir Jainulabdeen Abdul Kalam, popularly known as 'Missile Man of India,' born on October 15 and served as the 11th President of India.\", 'He always remembered for his patriotism and passion for innovation and science & technology.', 'The Bharat Ratna recipient stands as a torchbearer who has instilled courage in youngsters to achieve extraordinary things in life despite adverse conditions.', 'Explore APJ Abdul Kalam Quotes in English for students!']\n"
     ]
    }
   ],
   "source": [
    "#tokenizing paragraph to sentences\n",
    "sentences = nltk.sent_tokenize(paragraph)\n",
    "print(sentences )\n"
   ]
  },
  {
   "cell_type": "code",
   "execution_count": 11,
   "metadata": {},
   "outputs": [
    {
     "name": "stdout",
     "output_type": "stream",
     "text": [
      "['APJ', 'Abdul', 'Kalam', 'was', 'a', 'source', 'of', 'inspiration', 'for', 'tens', 'and', 'thousands', 'of', 'youngsters', 'across', 'the', 'world', 'because', 'of', 'his', 'life', 'philosophy', 'and', 'teachings', '.', 'Avul', 'Pakir', 'Jainulabdeen', 'Abdul', 'Kalam', ',', 'popularly', 'known', 'as', \"'Missile\", 'Man', 'of', 'India', ',', \"'\", 'born', 'on', 'October', '15', 'and', 'served', 'as', 'the', '11th', 'President', 'of', 'India', '.', 'He', 'always', 'remembered', 'for', 'his', 'patriotism', 'and', 'passion', 'for', 'innovation', 'and', 'science', '&', 'technology', '.', 'The', 'Bharat', 'Ratna', 'recipient', 'stands', 'as', 'a', 'torchbearer', 'who', 'has', 'instilled', 'courage', 'in', 'youngsters', 'to', 'achieve', 'extraordinary', 'things', 'in', 'life', 'despite', 'adverse', 'conditions', '.', 'Explore', 'APJ', 'Abdul', 'Kalam', 'Quotes', 'in', 'English', 'for', 'students', '!']\n"
     ]
    }
   ],
   "source": [
    "#tokenizing paragraph to words\n",
    "words =nltk.word_tokenize(paragraph)\n",
    "print(words)"
   ]
  },
  {
   "cell_type": "code",
   "execution_count": 13,
   "metadata": {},
   "outputs": [],
   "source": [
    "#stemmimg\n",
    "from nltk.stem import PorterStemmer #stemming library\n",
    "from nltk.corpus import stopwords #to import stopwords set to ignore it\n"
   ]
  },
  {
   "cell_type": "code",
   "execution_count": 17,
   "metadata": {},
   "outputs": [],
   "source": [
    "stemmer = PorterStemmer()#initializing stemming fn\n"
   ]
  },
  {
   "cell_type": "code",
   "execution_count": 18,
   "metadata": {},
   "outputs": [
    {
     "data": {
      "text/plain": [
       "['i',\n",
       " 'me',\n",
       " 'my',\n",
       " 'myself',\n",
       " 'we',\n",
       " 'our',\n",
       " 'ours',\n",
       " 'ourselves',\n",
       " 'you',\n",
       " \"you're\",\n",
       " \"you've\",\n",
       " \"you'll\",\n",
       " \"you'd\",\n",
       " 'your',\n",
       " 'yours',\n",
       " 'yourself',\n",
       " 'yourselves',\n",
       " 'he',\n",
       " 'him',\n",
       " 'his',\n",
       " 'himself',\n",
       " 'she',\n",
       " \"she's\",\n",
       " 'her',\n",
       " 'hers',\n",
       " 'herself',\n",
       " 'it',\n",
       " \"it's\",\n",
       " 'its',\n",
       " 'itself',\n",
       " 'they',\n",
       " 'them',\n",
       " 'their',\n",
       " 'theirs',\n",
       " 'themselves',\n",
       " 'what',\n",
       " 'which',\n",
       " 'who',\n",
       " 'whom',\n",
       " 'this',\n",
       " 'that',\n",
       " \"that'll\",\n",
       " 'these',\n",
       " 'those',\n",
       " 'am',\n",
       " 'is',\n",
       " 'are',\n",
       " 'was',\n",
       " 'were',\n",
       " 'be',\n",
       " 'been',\n",
       " 'being',\n",
       " 'have',\n",
       " 'has',\n",
       " 'had',\n",
       " 'having',\n",
       " 'do',\n",
       " 'does',\n",
       " 'did',\n",
       " 'doing',\n",
       " 'a',\n",
       " 'an',\n",
       " 'the',\n",
       " 'and',\n",
       " 'but',\n",
       " 'if',\n",
       " 'or',\n",
       " 'because',\n",
       " 'as',\n",
       " 'until',\n",
       " 'while',\n",
       " 'of',\n",
       " 'at',\n",
       " 'by',\n",
       " 'for',\n",
       " 'with',\n",
       " 'about',\n",
       " 'against',\n",
       " 'between',\n",
       " 'into',\n",
       " 'through',\n",
       " 'during',\n",
       " 'before',\n",
       " 'after',\n",
       " 'above',\n",
       " 'below',\n",
       " 'to',\n",
       " 'from',\n",
       " 'up',\n",
       " 'down',\n",
       " 'in',\n",
       " 'out',\n",
       " 'on',\n",
       " 'off',\n",
       " 'over',\n",
       " 'under',\n",
       " 'again',\n",
       " 'further',\n",
       " 'then',\n",
       " 'once',\n",
       " 'here',\n",
       " 'there',\n",
       " 'when',\n",
       " 'where',\n",
       " 'why',\n",
       " 'how',\n",
       " 'all',\n",
       " 'any',\n",
       " 'both',\n",
       " 'each',\n",
       " 'few',\n",
       " 'more',\n",
       " 'most',\n",
       " 'other',\n",
       " 'some',\n",
       " 'such',\n",
       " 'no',\n",
       " 'nor',\n",
       " 'not',\n",
       " 'only',\n",
       " 'own',\n",
       " 'same',\n",
       " 'so',\n",
       " 'than',\n",
       " 'too',\n",
       " 'very',\n",
       " 's',\n",
       " 't',\n",
       " 'can',\n",
       " 'will',\n",
       " 'just',\n",
       " 'don',\n",
       " \"don't\",\n",
       " 'should',\n",
       " \"should've\",\n",
       " 'now',\n",
       " 'd',\n",
       " 'll',\n",
       " 'm',\n",
       " 'o',\n",
       " 're',\n",
       " 've',\n",
       " 'y',\n",
       " 'ain',\n",
       " 'aren',\n",
       " \"aren't\",\n",
       " 'couldn',\n",
       " \"couldn't\",\n",
       " 'didn',\n",
       " \"didn't\",\n",
       " 'doesn',\n",
       " \"doesn't\",\n",
       " 'hadn',\n",
       " \"hadn't\",\n",
       " 'hasn',\n",
       " \"hasn't\",\n",
       " 'haven',\n",
       " \"haven't\",\n",
       " 'isn',\n",
       " \"isn't\",\n",
       " 'ma',\n",
       " 'mightn',\n",
       " \"mightn't\",\n",
       " 'mustn',\n",
       " \"mustn't\",\n",
       " 'needn',\n",
       " \"needn't\",\n",
       " 'shan',\n",
       " \"shan't\",\n",
       " 'shouldn',\n",
       " \"shouldn't\",\n",
       " 'wasn',\n",
       " \"wasn't\",\n",
       " 'weren',\n",
       " \"weren't\",\n",
       " 'won',\n",
       " \"won't\",\n",
       " 'wouldn',\n",
       " \"wouldn't\"]"
      ]
     },
     "execution_count": 18,
     "metadata": {},
     "output_type": "execute_result"
    }
   ],
   "source": [
    "stopwords.words(\"english\")"
   ]
  },
  {
   "cell_type": "code",
   "execution_count": 26,
   "metadata": {},
   "outputs": [
    {
     "name": "stdout",
     "output_type": "stream",
     "text": [
      "[\"apj abdul kalam sourc inspir ten thousand youngster across world life philosophi teach . avul pakir jainulabdeen abdul kalam , popularli known 'missil man india , ' born octob 15 serv 11th presid india . He alway rememb patriot passion innov scienc & technolog . bharat ratna recipi stand torchbear instil courag youngster achiev extraordinari thing life despit adver condit . explor apj abdul kalam quot english student !\", \"apj abdul kalam sourc inspir ten thousand youngster across world life philosophi teach . avul pakir jainulabdeen abdul kalam , popularli known 'missil man india , ' born octob 15 serv 11th presid india . He alway rememb patriot passion innov scienc & technolog . bharat ratna recipi stand torchbear instil courag youngster achiev extraordinari thing life despit adver condit . explor apj abdul kalam quot english student !\", \"apj abdul kalam sourc inspir ten thousand youngster across world life philosophi teach . avul pakir jainulabdeen abdul kalam , popularli known 'missil man india , ' born octob 15 serv 11th presid india . He alway rememb patriot passion innov scienc & technolog . bharat ratna recipi stand torchbear instil courag youngster achiev extraordinari thing life despit adver condit . explor apj abdul kalam quot english student !\", \"apj abdul kalam sourc inspir ten thousand youngster across world life philosophi teach . avul pakir jainulabdeen abdul kalam , popularli known 'missil man india , ' born octob 15 serv 11th presid india . He alway rememb patriot passion innov scienc & technolog . bharat ratna recipi stand torchbear instil courag youngster achiev extraordinari thing life despit adver condit . explor apj abdul kalam quot english student !\", \"apj abdul kalam sourc inspir ten thousand youngster across world life philosophi teach . avul pakir jainulabdeen abdul kalam , popularli known 'missil man india , ' born octob 15 serv 11th presid india . He alway rememb patriot passion innov scienc & technolog . bharat ratna recipi stand torchbear instil courag youngster achiev extraordinari thing life despit adver condit . explor apj abdul kalam quot english student !\"]\n",
      "['apj', 'abdul', 'kalam', 'sourc', 'inspir', 'ten', 'thousand', 'youngster', 'across', 'world', 'life', 'philosophi', 'teach', '.', 'avul', 'pakir', 'jainulabdeen', 'abdul', 'kalam', ',', 'popularli', 'known', \"'missil\", 'man', 'india', ',', \"'\", 'born', 'octob', '15', 'serv', '11th', 'presid', 'india', '.', 'He', 'alway', 'rememb', 'patriot', 'passion', 'innov', 'scienc', '&', 'technolog', '.', 'bharat', 'ratna', 'recipi', 'stand', 'torchbear', 'instil', 'courag', 'youngster', 'achiev', 'extraordinari', 'thing', 'life', 'despit', 'adver', 'condit', '.', 'explor', 'apj', 'abdul', 'kalam', 'quot', 'english', 'student', '!']\n"
     ]
    }
   ],
   "source": [
    "#stemming operation\n",
    "for i in range(len(sentences)):\n",
    "    words =[stemmer.stem(word)for word in words if word not in set(stopwords.words(\"english\"))]\n",
    "    sentences[i]=' '.join(words)\n",
    "print(sentences)\n",
    "print(words)"
   ]
  },
  {
   "cell_type": "code",
   "execution_count": 22,
   "metadata": {},
   "outputs": [],
   "source": [
    "#lemmatization\n",
    "from nltk.stem import WordNetLemmatizer#stopwords already imported\n"
   ]
  },
  {
   "cell_type": "code",
   "execution_count": 23,
   "metadata": {},
   "outputs": [],
   "source": [
    "lemmatizer =WordNetLemmatizer()\n"
   ]
  },
  {
   "cell_type": "code",
   "execution_count": 25,
   "metadata": {},
   "outputs": [
    {
     "name": "stdout",
     "output_type": "stream",
     "text": [
      "['apj', 'abdul', 'kalam', 'sourc', 'inspir', 'ten', 'thousand', 'youngster', 'across', 'world', 'life', 'philosophi', 'teach', '.', 'avul', 'pakir', 'jainulabdeen', 'abdul', 'kalam', ',', 'popularli', 'known', \"'missil\", 'man', 'india', ',', \"'\", 'born', 'octob', '15', 'serv', '11th', 'presid', 'india', '.', 'He', 'alway', 'rememb', 'patriot', 'passion', 'innov', 'scienc', '&', 'technolog', '.', 'bharat', 'ratna', 'recipi', 'stand', 'torchbear', 'instil', 'courag', 'youngster', 'achiev', 'extraordinari', 'thing', 'life', 'despit', 'adver', 'condit', '.', 'explor', 'apj', 'abdul', 'kalam', 'quot', 'english', 'student', '!']\n",
      "['apj', 'abdul', 'kalam', 'sourc', 'inspir', 'ten', 'thousand', 'youngster', 'across', 'world', 'life', 'philosophi', 'teach', '.', 'avul', 'pakir', 'jainulabdeen', 'abdul', 'kalam', ',', 'popularli', 'known', \"'missil\", 'man', 'india', ',', \"'\", 'born', 'octob', '15', 'serv', '11th', 'presid', 'india', '.', 'He', 'alway', 'rememb', 'patriot', 'passion', 'innov', 'scienc', '&', 'technolog', '.', 'bharat', 'ratna', 'recipi', 'stand', 'torchbear', 'instil', 'courag', 'youngster', 'achiev', 'extraordinari', 'thing', 'life', 'despit', 'adver', 'condit', '.', 'explor', 'apj', 'abdul', 'kalam', 'quot', 'english', 'student', '!']\n",
      "['apj', 'abdul', 'kalam', 'sourc', 'inspir', 'ten', 'thousand', 'youngster', 'across', 'world', 'life', 'philosophi', 'teach', '.', 'avul', 'pakir', 'jainulabdeen', 'abdul', 'kalam', ',', 'popularli', 'known', \"'missil\", 'man', 'india', ',', \"'\", 'born', 'octob', '15', 'serv', '11th', 'presid', 'india', '.', 'He', 'alway', 'rememb', 'patriot', 'passion', 'innov', 'scienc', '&', 'technolog', '.', 'bharat', 'ratna', 'recipi', 'stand', 'torchbear', 'instil', 'courag', 'youngster', 'achiev', 'extraordinari', 'thing', 'life', 'despit', 'adver', 'condit', '.', 'explor', 'apj', 'abdul', 'kalam', 'quot', 'english', 'student', '!']\n",
      "['apj', 'abdul', 'kalam', 'sourc', 'inspir', 'ten', 'thousand', 'youngster', 'across', 'world', 'life', 'philosophi', 'teach', '.', 'avul', 'pakir', 'jainulabdeen', 'abdul', 'kalam', ',', 'popularli', 'known', \"'missil\", 'man', 'india', ',', \"'\", 'born', 'octob', '15', 'serv', '11th', 'presid', 'india', '.', 'He', 'alway', 'rememb', 'patriot', 'passion', 'innov', 'scienc', '&', 'technolog', '.', 'bharat', 'ratna', 'recipi', 'stand', 'torchbear', 'instil', 'courag', 'youngster', 'achiev', 'extraordinari', 'thing', 'life', 'despit', 'adver', 'condit', '.', 'explor', 'apj', 'abdul', 'kalam', 'quot', 'english', 'student', '!']\n",
      "['apj', 'abdul', 'kalam', 'sourc', 'inspir', 'ten', 'thousand', 'youngster', 'across', 'world', 'life', 'philosophi', 'teach', '.', 'avul', 'pakir', 'jainulabdeen', 'abdul', 'kalam', ',', 'popularli', 'known', \"'missil\", 'man', 'india', ',', \"'\", 'born', 'octob', '15', 'serv', '11th', 'presid', 'india', '.', 'He', 'alway', 'rememb', 'patriot', 'passion', 'innov', 'scienc', '&', 'technolog', '.', 'bharat', 'ratna', 'recipi', 'stand', 'torchbear', 'instil', 'courag', 'youngster', 'achiev', 'extraordinari', 'thing', 'life', 'despit', 'adver', 'condit', '.', 'explor', 'apj', 'abdul', 'kalam', 'quot', 'english', 'student', '!']\n",
      "[\"apj abdul kalam sourc inspir ten thousand youngster across world life philosophi teach . avul pakir jainulabdeen abdul kalam , popularli known 'missil man india , ' born octob 15 serv 11th presid india . He alway rememb patriot passion innov scienc & technolog . bharat ratna recipi stand torchbear instil courag youngster achiev extraordinari thing life despit adver condit . explor apj abdul kalam quot english student !\", \"apj abdul kalam sourc inspir ten thousand youngster across world life philosophi teach . avul pakir jainulabdeen abdul kalam , popularli known 'missil man india , ' born octob 15 serv 11th presid india . He alway rememb patriot passion innov scienc & technolog . bharat ratna recipi stand torchbear instil courag youngster achiev extraordinari thing life despit adver condit . explor apj abdul kalam quot english student !\", \"apj abdul kalam sourc inspir ten thousand youngster across world life philosophi teach . avul pakir jainulabdeen abdul kalam , popularli known 'missil man india , ' born octob 15 serv 11th presid india . He alway rememb patriot passion innov scienc & technolog . bharat ratna recipi stand torchbear instil courag youngster achiev extraordinari thing life despit adver condit . explor apj abdul kalam quot english student !\", \"apj abdul kalam sourc inspir ten thousand youngster across world life philosophi teach . avul pakir jainulabdeen abdul kalam , popularli known 'missil man india , ' born octob 15 serv 11th presid india . He alway rememb patriot passion innov scienc & technolog . bharat ratna recipi stand torchbear instil courag youngster achiev extraordinari thing life despit adver condit . explor apj abdul kalam quot english student !\", \"apj abdul kalam sourc inspir ten thousand youngster across world life philosophi teach . avul pakir jainulabdeen abdul kalam , popularli known 'missil man india , ' born octob 15 serv 11th presid india . He alway rememb patriot passion innov scienc & technolog . bharat ratna recipi stand torchbear instil courag youngster achiev extraordinari thing life despit adver condit . explor apj abdul kalam quot english student !\"]\n"
     ]
    }
   ],
   "source": [
    "for i in range(len(sentences)):\n",
    "    words = [lemmatizer.lemmatize(word) for word in words if word not in set(stopwords.words(\"english\"))]\n",
    "    sentences[i] =' '.join(words)\n",
    "    print(words)\n",
    "print(sentences)"
   ]
  },
  {
   "cell_type": "code",
   "execution_count": null,
   "metadata": {},
   "outputs": [],
   "source": []
  }
 ],
 "metadata": {
  "kernelspec": {
   "display_name": "Python 3",
   "language": "python",
   "name": "python3"
  },
  "language_info": {
   "codemirror_mode": {
    "name": "ipython",
    "version": 3
   },
   "file_extension": ".py",
   "mimetype": "text/x-python",
   "name": "python",
   "nbconvert_exporter": "python",
   "pygments_lexer": "ipython3",
   "version": "3.7.4"
  }
 },
 "nbformat": 4,
 "nbformat_minor": 2
}
